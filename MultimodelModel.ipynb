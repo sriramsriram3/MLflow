{
 "cells": [
  {
   "cell_type": "code",
   "execution_count": 20,
   "metadata": {},
   "outputs": [],
   "source": [
    "import numpy as numpy\n",
    "import pandas as pd\n",
    "from sklearn.datasets import make_classification\n",
    "from sklearn.metrics import accuracy_score,precision_score,recall_score,f1_score,classification_report\n",
    "from sklearn.linear_model import LogisticRegression\n",
    "from sklearn.model_selection import train_test_split\n",
    "from sklearn.ensemble import RandomForestClassifier\n",
    "from xgboost import XGBClassifier\n"
   ]
  },
  {
   "cell_type": "code",
   "execution_count": 3,
   "metadata": {},
   "outputs": [],
   "source": [
    "X,y=make_classification(n_samples=1000,n_features=10,shuffle=True,random_state=18)"
   ]
  },
  {
   "cell_type": "code",
   "execution_count": 5,
   "metadata": {},
   "outputs": [],
   "source": [
    "X_train,X_test,y_train,y_test=train_test_split(X,y,test_size=0.3)"
   ]
  },
  {
   "cell_type": "code",
   "execution_count": null,
   "metadata": {},
   "outputs": [],
   "source": []
  },
  {
   "cell_type": "code",
   "execution_count": 17,
   "metadata": {},
   "outputs": [
    {
     "name": "stdout",
     "output_type": "stream",
     "text": [
      "{'Logistic Regression': LogisticRegression(random_state=42, solver='liblinear'), 'Random Forest': RandomForestClassifier(max_depth=10, random_state=42), 'XGBoost Classifier': XGBClassifier(base_score=None, booster=None, callbacks=None,\n",
      "              colsample_bylevel=None, colsample_bynode=None,\n",
      "              colsample_bytree=None, device=None, early_stopping_rounds=None,\n",
      "              enable_categorical=False, eval_metric=None, feature_types=None,\n",
      "              gamma=None, grow_policy=None, importance_type=None,\n",
      "              interaction_constraints=None, learning_rate=0.1, max_bin=None,\n",
      "              max_cat_threshold=None, max_cat_to_onehot=None,\n",
      "              max_delta_step=None, max_depth=6, max_leaves=None,\n",
      "              min_child_weight=None, missing=nan, monotone_constraints=None,\n",
      "              multi_strategy=None, n_estimators=100, n_jobs=None,\n",
      "              num_parallel_tree=None, random_state=42, ...)}\n"
     ]
    }
   ],
   "source": [
    "models= {\n",
    "    \"Logistic Regression\": LogisticRegression(C=1.0, solver='liblinear', penalty='l2', max_iter=100, random_state=42),\n",
    "    \"Random Forest\": RandomForestClassifier(n_estimators=100, max_depth=10, min_samples_split=2, min_samples_leaf=1, random_state=42),\n",
    "    \"XGBoost Classifier\": XGBClassifier(n_estimators=100, max_depth=6, learning_rate=0.1, objective='binary:logistic', random_state=42)\n",
    "}\n",
    "\n",
    "print(models)"
   ]
  },
  {
   "cell_type": "code",
   "execution_count": 7,
   "metadata": {},
   "outputs": [],
   "source": [
    "import mlflow"
   ]
  },
  {
   "cell_type": "code",
   "execution_count": 21,
   "metadata": {},
   "outputs": [],
   "source": [
    "reports=[]\n",
    "for model_name, ind_model in models.items():\n",
    "    model=ind_model\n",
    "    model.fit(X_train, y_train)\n",
    "    y_pred = model.predict(X_test)\n",
    "    report = classification_report(y_test, y_pred, output_dict=True)\n",
    "    reports.append(report)"
   ]
  },
  {
   "cell_type": "code",
   "execution_count": 22,
   "metadata": {},
   "outputs": [
    {
     "name": "stdout",
     "output_type": "stream",
     "text": [
      "[{'0': {'precision': 0.8944099378881988, 'recall': 0.935064935064935, 'f1-score': 0.9142857142857143, 'support': 154.0}, '1': {'precision': 0.9280575539568345, 'recall': 0.8835616438356164, 'f1-score': 0.9052631578947369, 'support': 146.0}, 'accuracy': 0.91, 'macro avg': {'precision': 0.9112337459225166, 'recall': 0.9093132894502758, 'f1-score': 0.9097744360902256, 'support': 300.0}, 'weighted avg': {'precision': 0.9107851110416015, 'recall': 0.91, 'f1-score': 0.9098947368421053, 'support': 300.0}}, {'0': {'precision': 0.8975903614457831, 'recall': 0.9675324675324676, 'f1-score': 0.93125, 'support': 154.0}, '1': {'precision': 0.9626865671641791, 'recall': 0.8835616438356164, 'f1-score': 0.9214285714285714, 'support': 146.0}, 'accuracy': 0.9266666666666666, 'macro avg': {'precision': 0.930138464304981, 'recall': 0.9255470556840419, 'f1-score': 0.9263392857142857, 'support': 300.0}, 'weighted avg': {'precision': 0.9292705148954025, 'recall': 0.9266666666666666, 'f1-score': 0.9264702380952379, 'support': 300.0}}, {'0': {'precision': 0.9290322580645162, 'recall': 0.935064935064935, 'f1-score': 0.9320388349514563, 'support': 154.0}, '1': {'precision': 0.9310344827586207, 'recall': 0.9246575342465754, 'f1-score': 0.9278350515463918, 'support': 146.0}, 'accuracy': 0.93, 'macro avg': {'precision': 0.9300333704115684, 'recall': 0.9298612346557552, 'f1-score': 0.9299369432489241, 'support': 300.0}, 'weighted avg': {'precision': 0.9300066740823136, 'recall': 0.93, 'f1-score': 0.929992993694325, 'support': 300.0}}]\n"
     ]
    }
   ],
   "source": [
    "print(reports)"
   ]
  },
  {
   "cell_type": "code",
   "execution_count": 23,
   "metadata": {},
   "outputs": [
    {
     "name": "stderr",
     "output_type": "stream",
     "text": [
      "2024/10/09 01:09:38 INFO mlflow.tracking.fluent: Experiment with name 'Anomaly Detection' does not exist. Creating a new experiment.\n",
      "2024/10/09 01:09:41 WARNING mlflow.sklearn: Model was missing function: predict. Not logging python_function flavor!\n",
      "2024/10/09 01:09:52 WARNING mlflow.models.model: Model logged without a signature and input example. Please set `input_example` parameter when logging the model to auto infer the model signature.\n",
      "2024/10/09 01:09:52 INFO mlflow.tracking._tracking_service.client: 🏃 View run L at: http://localhost:5000/#/experiments/697091888028748967/runs/540015171cb544d1850e16d677cf7878.\n",
      "2024/10/09 01:09:52 INFO mlflow.tracking._tracking_service.client: 🧪 View experiment at: http://localhost:5000/#/experiments/697091888028748967.\n",
      "2024/10/09 01:09:52 WARNING mlflow.sklearn: Model was missing function: predict. Not logging python_function flavor!\n",
      "2024/10/09 01:10:02 WARNING mlflow.models.model: Model logged without a signature and input example. Please set `input_example` parameter when logging the model to auto infer the model signature.\n",
      "2024/10/09 01:10:03 INFO mlflow.tracking._tracking_service.client: 🏃 View run R at: http://localhost:5000/#/experiments/697091888028748967/runs/78d1e436887d49bcb19db9647a0f508a.\n",
      "2024/10/09 01:10:03 INFO mlflow.tracking._tracking_service.client: 🧪 View experiment at: http://localhost:5000/#/experiments/697091888028748967.\n",
      "2024/10/09 01:10:03 WARNING mlflow.sklearn: Model was missing function: predict. Not logging python_function flavor!\n",
      "2024/10/09 01:10:13 WARNING mlflow.models.model: Model logged without a signature and input example. Please set `input_example` parameter when logging the model to auto infer the model signature.\n",
      "2024/10/09 01:10:13 INFO mlflow.tracking._tracking_service.client: 🏃 View run X at: http://localhost:5000/#/experiments/697091888028748967/runs/ff1b45632a8c44fb9e2e5c597d364c49.\n",
      "2024/10/09 01:10:13 INFO mlflow.tracking._tracking_service.client: 🧪 View experiment at: http://localhost:5000/#/experiments/697091888028748967.\n"
     ]
    }
   ],
   "source": [
    "mlflow.set_experiment(\"Anomaly Detection\")\n",
    "mlflow.set_tracking_uri(\"http://localhost:5000\")\n",
    "\n",
    "for i, element in enumerate(models):\n",
    "    model_name = element[0]\n",
    "    model = element[1]\n",
    "    report = reports[i]\n",
    "    \n",
    "    with mlflow.start_run(run_name=model_name):        \n",
    "        mlflow.log_param(\"model\", model_name)\n",
    "        mlflow.log_metric('accuracy', report['accuracy'])\n",
    "        mlflow.log_metric('recall_class_1', report['1']['recall'])\n",
    "        mlflow.log_metric('recall_class_0', report['0']['recall'])\n",
    "        mlflow.log_metric('f1_score_macro', report['macro avg']['f1-score'])        \n",
    "        \n",
    "        if \"XGBoost Classifier\" in model_name:\n",
    "            mlflow.xgboost.log_model(model, \"model\")\n",
    "        elif \"Logistic Regression\" in model_name:\n",
    "            mlflow.sklearn.log_model(model, \"model\")\n",
    "        else:\n",
    "            mlflow.sklearn.log_model(model, \"model\") "
   ]
  },
  {
   "cell_type": "code",
   "execution_count": null,
   "metadata": {},
   "outputs": [],
   "source": []
  }
 ],
 "metadata": {
  "kernelspec": {
   "display_name": "mlenv",
   "language": "python",
   "name": "python3"
  },
  "language_info": {
   "codemirror_mode": {
    "name": "ipython",
    "version": 3
   },
   "file_extension": ".py",
   "mimetype": "text/x-python",
   "name": "python",
   "nbconvert_exporter": "python",
   "pygments_lexer": "ipython3",
   "version": "3.10.15"
  }
 },
 "nbformat": 4,
 "nbformat_minor": 2
}
